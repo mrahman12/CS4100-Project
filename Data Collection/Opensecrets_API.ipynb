{
 "cells": [
  {
   "cell_type": "code",
   "execution_count": 83,
   "id": "e7ef46bc",
   "metadata": {},
   "outputs": [],
   "source": [
    "import requests\n",
    "import random\n",
    "import re\n",
    "import time\n",
    "apikey='a3f0527d66cff847061af969e1cdd8ab'\n",
    "state_codes=['AL','AK','AZ','AR','CA','CO','CT','DE','FL','GA','HI','ID','IL','IN','IA','KS','KY','LA','ME','MD','MA','MI','MN','MS','MO','MT','NE','NV','NH','NJ','NM','NY','NC','ND','OH','OK','OR','PA','RI','SC','SD','TN','TX','UT','VT','VA','WA','WV','WI','WY']"
   ]
  },
  {
   "cell_type": "code",
   "execution_count": null,
   "id": "adf92638",
   "metadata": {
    "scrolled": true
   },
   "outputs": [],
   "source": [
    "congress={}\n",
    "name_id = re.compile(r'cid=\"([a-zA-z0-9]+)\" firstlast=\"([a-zA-z ]+)\"') \n",
    "for SID in state_codes:\n",
    "    print(SID)\n",
    "    time.sleep(random.random()*5)\n",
    "    response=requests.get(f'http://www.opensecrets.org/api/?method=getLegislators&id={SID}&apikey={apikey}')\n",
    "    congress[SID]=name_id.findall(response.text)"
   ]
  },
  {
   "cell_type": "code",
   "execution_count": 179,
   "id": "ac78f8fe",
   "metadata": {},
   "outputs": [
    {
     "name": "stdout",
     "output_type": "stream",
     "text": [
      "................................................................................................................................................................................................................................................................................................................................................................................................................................................................................................................................................"
     ]
    }
   ],
   "source": [
    "cong_info={}\n",
    "industry_parse = re.compile(r'industry_code=\"([a-zA-z0-9]+)\" industry_name=\"([a-zA-z0-9!@#$&()\\\\-`.+,/\\;: ]+)\" indivs=\"([0-9]+)\" pacs=\"([0-9]+)\" total=\"([0-9]+)\"')\n",
    "for CID, name in sum(congress.values(),[]):\n",
    "    time.sleep(random.random()*5)\n",
    "    resp=requests.get(f'https://www.opensecrets.org/api/?method=candIndustry&cid={CID}&apikey={apikey}')\n",
    "    industry = [{i:j for (i,j) in zip(['industry_code','industry_name','indivs','pacs','total'],stats)} for stats in industry_parse.findall(resp.text)]\n",
    "    cong_info[CID] = {'name':name, 'industry':industry}\n",
    "    print('.',end='')"
   ]
  },
  {
   "cell_type": "code",
   "execution_count": 182,
   "id": "3c2990a9",
   "metadata": {},
   "outputs": [],
   "source": [
    "import json \n",
    "with open('./opensecrets_info.json', 'w') as f:\n",
    "    json.dump(cong_info,f)"
   ]
  },
  {
   "cell_type": "code",
   "execution_count": null,
   "id": "1e9a02eb",
   "metadata": {},
   "outputs": [],
   "source": []
  }
 ],
 "metadata": {
  "kernelspec": {
   "display_name": "Python 3 (ipykernel)",
   "language": "python",
   "name": "python3"
  },
  "language_info": {
   "codemirror_mode": {
    "name": "ipython",
    "version": 3
   },
   "file_extension": ".py",
   "mimetype": "text/x-python",
   "name": "python",
   "nbconvert_exporter": "python",
   "pygments_lexer": "ipython3",
   "version": "3.11.2"
  }
 },
 "nbformat": 4,
 "nbformat_minor": 5
}
