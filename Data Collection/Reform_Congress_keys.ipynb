{
 "cells": [
  {
   "cell_type": "code",
   "execution_count": 8,
   "id": "bd9e8277-7933-4157-a465-4933c03869ee",
   "metadata": {},
   "outputs": [],
   "source": [
    "import requests\n",
    "import re\n",
    "import time\n",
    "import random\n",
    "import json\n",
    "import os\n",
    "cong_key='Jq9Uy2kgbNouvTJfoixzEYYQQJ88FAjM3D5HFPne'"
   ]
  },
  {
   "cell_type": "code",
   "execution_count": 9,
   "id": "4d28eeb3-1bfe-4fa1-b155-a80794fee2cd",
   "metadata": {},
   "outputs": [],
   "source": [
    "cong={}\n",
    "next='https://api.congress.gov/v3/member?'\n",
    "while True:\n",
    "    member_resp=requests.get(f'{next}&api_key={cong_key}')\n",
    "    for m in member_resp.json()['members']:\n",
    "        cong[re.sub(r'[^a-zA-Z ]','',m['name'].lower()).strip()]=m['bioguideId']\n",
    "    next=member_resp.json().get('pagination').get('next')\n",
    "    if not next:\n",
    "        break\n",
    "    time.sleep(random.random()*2)"
   ]
  },
  {
   "cell_type": "code",
   "execution_count": 10,
   "id": "c25069da-c459-4a63-bb11-12a7e87335d6",
   "metadata": {},
   "outputs": [],
   "source": [
    "with open('./opensecrets_info.json', 'r') as f:\n",
    "    cong_info=json.load(f)"
   ]
  },
  {
   "cell_type": "code",
   "execution_count": 11,
   "id": "c4a65cc4-15a5-40b9-9c34-23a6762d45cb",
   "metadata": {},
   "outputs": [],
   "source": [
    "from string import ascii_lowercase as alc\n",
    "mapping={}\n",
    "manual=[]\n",
    "for o_id,info in cong_info.items():\n",
    "    name=re.sub(r'[^a-zA-Z ]','',info['name'].lower()).strip()\n",
    "    f,*n=name.split()\n",
    "    if len(n)==1:\n",
    "        new=\" \".join([n[-1],f])\n",
    "    elif len(n)==2:\n",
    "        new=\" \".join([n[-1],f,n[0]])\n",
    "\n",
    "    #guess cycle\n",
    "    if not cong.get(new):\n",
    "        new+='  '\n",
    "        for let in alc:\n",
    "            new=new[:-1]+let\n",
    "            if cong.get(new):break\n",
    "    mapping[o_id]={'id':cong.get(new),'name':info['name']}\n",
    "    if not cong.get(new):\n",
    "        manual.append(info['name'])"
   ]
  },
  {
   "cell_type": "code",
   "execution_count": 12,
   "id": "38270ff8-b059-40c2-b22e-1872aacf5095",
   "metadata": {
    "scrolled": true
   },
   "outputs": [],
   "source": [
    "usable={k:v for k,v in mapping.items() if v['id']}\n",
    "new_info={v['id']:cong_info[k]['industry'] for k,v in usable.items()}"
   ]
  },
  {
   "cell_type": "code",
   "execution_count": 14,
   "id": "282317d9-f0ef-41a6-b7ac-b17b4cb53990",
   "metadata": {},
   "outputs": [],
   "source": [
    "new_info={k:v for k,v in new_info.items() if v}\n",
    "with open('./gov_id_industry.json', 'w') as f:\n",
    "    json.dump(new_info,f)"
   ]
  },
  {
   "cell_type": "code",
   "execution_count": null,
   "id": "3e5e4e02-952b-4987-b2c0-1dc783bac692",
   "metadata": {},
   "outputs": [],
   "source": []
  }
 ],
 "metadata": {
  "kernelspec": {
   "display_name": "Python 3 (ipykernel)",
   "language": "python",
   "name": "python3"
  },
  "language_info": {
   "codemirror_mode": {
    "name": "ipython",
    "version": 3
   },
   "file_extension": ".py",
   "mimetype": "text/x-python",
   "name": "python",
   "nbconvert_exporter": "python",
   "pygments_lexer": "ipython3",
   "version": "3.11.2"
  }
 },
 "nbformat": 4,
 "nbformat_minor": 5
}
